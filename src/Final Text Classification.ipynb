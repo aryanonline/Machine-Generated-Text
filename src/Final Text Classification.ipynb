{
 "cells": [
  {
   "cell_type": "code",
   "execution_count": 1,
   "id": "5afc6124-1279-4f76-8b12-a88a066b3aec",
   "metadata": {},
   "outputs": [],
   "source": [
    "import pandas as pd\n",
    "import numpy as np\n",
    "import os\n",
    "import matplotlib.pyplot as plt\n",
    "import time\n",
    "from keras.preprocessing.text import tokenizer_from_json\n",
    "import json"
   ]
  },
  {
   "cell_type": "code",
   "execution_count": 4,
   "id": "7b08b21b-d72a-4af4-81ca-785436b40d9f",
   "metadata": {},
   "outputs": [
    {
     "name": "stdout",
     "output_type": "stream",
     "text": [
      "Defaulting to user installation because normal site-packages is not writeable\n",
      "Collecting openpyxl\n",
      "  Downloading openpyxl-3.1.2-py2.py3-none-any.whl (249 kB)\n",
      "     -------------------------------------- 250.0/250.0 kB 1.7 MB/s eta 0:00:00\n",
      "Collecting et-xmlfile\n",
      "  Downloading et_xmlfile-1.1.0-py3-none-any.whl (4.7 kB)\n",
      "Installing collected packages: et-xmlfile, openpyxl\n",
      "Successfully installed et-xmlfile-1.1.0 openpyxl-3.1.2\n",
      "Note: you may need to restart the kernel to use updated packages.\n"
     ]
    }
   ],
   "source": [
    "pip install openpyxl"
   ]
  },
  {
   "cell_type": "code",
   "execution_count": 2,
   "id": "016accad-e83b-413d-b973-65e12bc07477",
   "metadata": {},
   "outputs": [
    {
     "data": {
      "text/html": [
       "<div>\n",
       "<style scoped>\n",
       "    .dataframe tbody tr th:only-of-type {\n",
       "        vertical-align: middle;\n",
       "    }\n",
       "\n",
       "    .dataframe tbody tr th {\n",
       "        vertical-align: top;\n",
       "    }\n",
       "\n",
       "    .dataframe thead th {\n",
       "        text-align: right;\n",
       "    }\n",
       "</style>\n",
       "<table border=\"1\" class=\"dataframe\">\n",
       "  <thead>\n",
       "    <tr style=\"text-align: right;\">\n",
       "      <th></th>\n",
       "      <th>text</th>\n",
       "      <th>generated</th>\n",
       "    </tr>\n",
       "  </thead>\n",
       "  <tbody>\n",
       "    <tr>\n",
       "      <th>0</th>\n",
       "      <td>Cars. Cars have been around since they became ...</td>\n",
       "      <td>0</td>\n",
       "    </tr>\n",
       "    <tr>\n",
       "      <th>1</th>\n",
       "      <td>Transportation is a large necessity in most co...</td>\n",
       "      <td>0</td>\n",
       "    </tr>\n",
       "    <tr>\n",
       "      <th>2</th>\n",
       "      <td>\"America's love affair with it's vehicles seem...</td>\n",
       "      <td>0</td>\n",
       "    </tr>\n",
       "    <tr>\n",
       "      <th>3</th>\n",
       "      <td>How often do you ride in a car? Do you drive a...</td>\n",
       "      <td>0</td>\n",
       "    </tr>\n",
       "    <tr>\n",
       "      <th>4</th>\n",
       "      <td>Cars are a wonderful thing. They are perhaps o...</td>\n",
       "      <td>0</td>\n",
       "    </tr>\n",
       "    <tr>\n",
       "      <th>...</th>\n",
       "      <td>...</td>\n",
       "      <td>...</td>\n",
       "    </tr>\n",
       "    <tr>\n",
       "      <th>1460</th>\n",
       "      <td>Plastic tableware's pervasive use and disposab...</td>\n",
       "      <td>1</td>\n",
       "    </tr>\n",
       "    <tr>\n",
       "      <th>1461</th>\n",
       "      <td>The age of 18 as the legal voting age is a pro...</td>\n",
       "      <td>1</td>\n",
       "    </tr>\n",
       "    <tr>\n",
       "      <th>1462</th>\n",
       "      <td>Addressing homelessness requires multifaceted ...</td>\n",
       "      <td>1</td>\n",
       "    </tr>\n",
       "    <tr>\n",
       "      <th>1463</th>\n",
       "      <td>Artificial Intelligence (AI) stands as a trans...</td>\n",
       "      <td>1</td>\n",
       "    </tr>\n",
       "    <tr>\n",
       "      <th>1464</th>\n",
       "      <td>Engaging children in the captivating narrative...</td>\n",
       "      <td>1</td>\n",
       "    </tr>\n",
       "  </tbody>\n",
       "</table>\n",
       "<p>1465 rows × 2 columns</p>\n",
       "</div>"
      ],
      "text/plain": [
       "                                                   text  generated\n",
       "0     Cars. Cars have been around since they became ...          0\n",
       "1     Transportation is a large necessity in most co...          0\n",
       "2     \"America's love affair with it's vehicles seem...          0\n",
       "3     How often do you ride in a car? Do you drive a...          0\n",
       "4     Cars are a wonderful thing. They are perhaps o...          0\n",
       "...                                                 ...        ...\n",
       "1460  Plastic tableware's pervasive use and disposab...          1\n",
       "1461  The age of 18 as the legal voting age is a pro...          1\n",
       "1462  Addressing homelessness requires multifaceted ...          1\n",
       "1463  Artificial Intelligence (AI) stands as a trans...          1\n",
       "1464  Engaging children in the captivating narrative...          1\n",
       "\n",
       "[1465 rows x 2 columns]"
      ]
     },
     "execution_count": 2,
     "metadata": {},
     "output_type": "execute_result"
    }
   ],
   "source": [
    "## Read the train data\n",
    "train_data = pd.read_csv(\"./data/data.csv\")\n",
    "train_data"
   ]
  },
  {
   "cell_type": "code",
   "execution_count": 3,
   "id": "f24c1268-2dcb-4f35-a383-7037296adea4",
   "metadata": {},
   "outputs": [
    {
     "data": {
      "image/png": "[encoded data removed]",
      "text/plain": [
       "<Figure size 500x400 with 1 Axes>"
      ]
     },
     "metadata": {},
     "output_type": "display_data"
    }
   ],
   "source": [
    "## check data skuness\n",
    "import matplotlib.pyplot as plt\n",
    "label_counts = train_data['generated'].value_counts()\n",
    "plt.figure(figsize=(5, 4))\n",
    "label_counts.plot(kind='bar', color=['blue', 'orange'])\n",
    "plt.title('Distribution of Human or AI-Generated Texts')\n",
    "plt.xlabel('Label')\n",
    "plt.ylabel('Count')\n",
    "plt.xticks(rotation=0)\n",
    "plt.show()"
   ]
  },
  {
   "cell_type": "code",
   "execution_count": 4,
   "id": "59100b31-2730-417a-a591-ecc79a9851cf",
   "metadata": {},
   "outputs": [
    {
     "data": {
      "text/html": [
       "<div>\n",
       "<style scoped>\n",
       "    .dataframe tbody tr th:only-of-type {\n",
       "        vertical-align: middle;\n",
       "    }\n",
       "\n",
       "    .dataframe tbody tr th {\n",
       "        vertical-align: top;\n",
       "    }\n",
       "\n",
       "    .dataframe thead th {\n",
       "        text-align: right;\n",
       "    }\n",
       "</style>\n",
       "<table border=\"1\" class=\"dataframe\">\n",
       "  <thead>\n",
       "    <tr style=\"text-align: right;\">\n",
       "      <th></th>\n",
       "      <th>text</th>\n",
       "      <th>generated</th>\n",
       "    </tr>\n",
       "  </thead>\n",
       "  <tbody>\n",
       "    <tr>\n",
       "      <th>1375</th>\n",
       "      <td>Green energy, derived from renewable and susta...</td>\n",
       "      <td>1</td>\n",
       "    </tr>\n",
       "    <tr>\n",
       "      <th>1376</th>\n",
       "      <td>The evolution of Artificial Intelligence (AI) ...</td>\n",
       "      <td>1</td>\n",
       "    </tr>\n",
       "    <tr>\n",
       "      <th>1377</th>\n",
       "      <td>Global warming has escalated into an imminent ...</td>\n",
       "      <td>1</td>\n",
       "    </tr>\n",
       "    <tr>\n",
       "      <th>1378</th>\n",
       "      <td>Bioinformatics, a dynamic interdisciplinary fi...</td>\n",
       "      <td>1</td>\n",
       "    </tr>\n",
       "    <tr>\n",
       "      <th>1379</th>\n",
       "      <td>In a world teeming with an abundance of choice...</td>\n",
       "      <td>1</td>\n",
       "    </tr>\n",
       "    <tr>\n",
       "      <th>...</th>\n",
       "      <td>...</td>\n",
       "      <td>...</td>\n",
       "    </tr>\n",
       "    <tr>\n",
       "      <th>1070</th>\n",
       "      <td>The black smoke that leaks out of your car's t...</td>\n",
       "      <td>0</td>\n",
       "    </tr>\n",
       "    <tr>\n",
       "      <th>162</th>\n",
       "      <td>Dear Mr. Florida State Senator, My name is PRO...</td>\n",
       "      <td>0</td>\n",
       "    </tr>\n",
       "    <tr>\n",
       "      <th>930</th>\n",
       "      <td>The Electoral College is not perfect and it ma...</td>\n",
       "      <td>0</td>\n",
       "    </tr>\n",
       "    <tr>\n",
       "      <th>461</th>\n",
       "      <td>There are a lot advantages and disadvantages o...</td>\n",
       "      <td>0</td>\n",
       "    </tr>\n",
       "    <tr>\n",
       "      <th>906</th>\n",
       "      <td>Dear Mr. Senator, Freedom to vote for authorit...</td>\n",
       "      <td>0</td>\n",
       "    </tr>\n",
       "  </tbody>\n",
       "</table>\n",
       "<p>180 rows × 2 columns</p>\n",
       "</div>"
      ],
      "text/plain": [
       "                                                   text  generated\n",
       "1375  Green energy, derived from renewable and susta...          1\n",
       "1376  The evolution of Artificial Intelligence (AI) ...          1\n",
       "1377  Global warming has escalated into an imminent ...          1\n",
       "1378  Bioinformatics, a dynamic interdisciplinary fi...          1\n",
       "1379  In a world teeming with an abundance of choice...          1\n",
       "...                                                 ...        ...\n",
       "1070  The black smoke that leaks out of your car's t...          0\n",
       "162   Dear Mr. Florida State Senator, My name is PRO...          0\n",
       "930   The Electoral College is not perfect and it ma...          0\n",
       "461   There are a lot advantages and disadvantages o...          0\n",
       "906   Dear Mr. Senator, Freedom to vote for authorit...          0\n",
       "\n",
       "[180 rows x 2 columns]"
      ]
     },
     "execution_count": 4,
     "metadata": {},
     "output_type": "execute_result"
    }
   ],
   "source": [
    "## downsample the data\n",
    "data_human = train_data[train_data['generated'] == 0]\n",
    "data_machine = train_data[train_data['generated'] == 1]\n",
    "downsampled = data_human.sample(data_machine.shape[0])\n",
    "train_data = pd.concat([data_machine, downsampled])\n",
    "train_data"
   ]
  },
  {
   "cell_type": "code",
   "execution_count": 5,
   "id": "d4202232-f016-4e76-903f-7efbd91dd74a",
   "metadata": {},
   "outputs": [
    {
     "data": {
      "image/png": "[encoded data removed]",
      "text/plain": [
       "<Figure size 500x400 with 1 Axes>"
      ]
     },
     "metadata": {},
     "output_type": "display_data"
    }
   ],
   "source": [
    "## check data skuness\n",
    "import matplotlib.pyplot as plt\n",
    "label_counts = train_data['generated'].value_counts()\n",
    "plt.figure(figsize=(5, 4))\n",
    "label_counts.plot(kind='bar', color=['blue', 'orange'])\n",
    "plt.title('Distribution of Human or AI-Generated Texts')\n",
    "plt.xlabel('Label')\n",
    "plt.ylabel('Count')\n",
    "plt.xticks(rotation=0)\n",
    "plt.show()"
   ]
  },
  {
   "cell_type": "code",
   "execution_count": 6,
   "id": "9948d0b4-1a3f-4df2-9071-20a8ae6bdab2",
   "metadata": {},
   "outputs": [],
   "source": [
    "from collections import Counter\n",
    "def counter_word(text):\n",
    "    count = Counter()\n",
    "    for i in text.values:\n",
    "        for word in i.split():\n",
    "            count[word] += 1\n",
    "    return count"
   ]
  },
  {
   "cell_type": "code",
   "execution_count": 7,
   "id": "b15cdff5-b4df-4a6b-9713-87839a815eca",
   "metadata": {},
   "outputs": [],
   "source": [
    "text = train_data.text\n",
    "counter = counter_word(text)"
   ]
  },
  {
   "cell_type": "code",
   "execution_count": 8,
   "id": "72d7b1ed-bba0-49a0-9bf4-14d660c5d9b1",
   "metadata": {},
   "outputs": [
    {
     "data": {
      "text/plain": [
       "10535"
      ]
     },
     "execution_count": 8,
     "metadata": {},
     "output_type": "execute_result"
    }
   ],
   "source": [
    "len(counter)"
   ]
  },
  {
   "cell_type": "code",
   "execution_count": 9,
   "id": "9886ab75-d88e-498c-9f19-bc0d66f7999f",
   "metadata": {},
   "outputs": [],
   "source": [
    "num_words=len(counter)\n",
    "max_length = 200"
   ]
  },
  {
   "cell_type": "code",
   "execution_count": 10,
   "id": "795b420f-3ead-4ea5-8bac-0915d8c6bd8c",
   "metadata": {},
   "outputs": [],
   "source": [
    "## split the data\n",
    "from sklearn.model_selection import train_test_split\n",
    "X_train, X_test, y_train, y_test = train_test_split(train_data['text'], train_data['generated'], stratify=train_data['generated'])"
   ]
  },
  {
   "cell_type": "code",
   "execution_count": 11,
   "id": "a50c6ce2-b58a-476e-a7cb-0459094ee9ea",
   "metadata": {},
   "outputs": [],
   "source": [
    "from keras.preprocessing.text import Tokenizer\n",
    "tokenizer = Tokenizer(num_words=num_words)\n",
    "tokenizer.fit_on_texts(X_train)"
   ]
  },
  {
   "cell_type": "code",
   "execution_count": 12,
   "id": "e5b74f79-8a31-49ba-8b19-ea73f9b21dae",
   "metadata": {},
   "outputs": [],
   "source": [
    "word_index = tokenizer.word_index"
   ]
  },
  {
   "cell_type": "code",
   "execution_count": 13,
   "id": "3480e942-1f09-40eb-ac18-66310f2b8f04",
   "metadata": {},
   "outputs": [],
   "source": [
    "train_sequences = tokenizer.texts_to_sequences(X_train)"
   ]
  },
  {
   "cell_type": "code",
   "execution_count": 14,
   "id": "275b49ff-4ccb-43b5-93f9-61d634b6999a",
   "metadata": {},
   "outputs": [],
   "source": [
    "from tensorflow.keras.preprocessing.sequence import pad_sequences\n",
    "train_padded = pad_sequences(train_sequences, maxlen=max_length, padding=\"post\", truncating=\"post\")"
   ]
  },
  {
   "cell_type": "code",
   "execution_count": 15,
   "id": "eee2f0ee-3c2f-4c19-8cce-ba37ef77e184",
   "metadata": {},
   "outputs": [
    {
     "data": {
      "text/plain": [
       "array([   1, 3401,    3, 1664,  575, 2515,  185,    7,   24,  615,  471,\n",
       "        191,  356,  718,   42,  616,  846, 1665,    2,    1,  576,    3,\n",
       "       2007,  314,  315,    1,  244,    3, 2516, 1389,   17,  575,    7,\n",
       "         24,  615,  471,  768, 1215,    4, 1216,  575,  847,    7,   24,\n",
       "        615,  191,    2, 1058,   30, 2517,  846, 1665,    6,  300,  471,\n",
       "        316,   11,  372,  542,   17,  575,    4, 2518,    2, 2008,   24,\n",
       "        615,  191, 1059,    1,  192,    3,  846,  373,    6,  543, 2519,\n",
       "          2, 1217,  396,  497,  134,    8,  414,  472,   97, 2009,  575,\n",
       "          4,  131, 1666,  314,    4,  617,  471,  191,   32,   24,  245,\n",
       "         11,   97, 1058,  575,    4,  473,    6,  374,   25,   24,  245,\n",
       "         42,    1,  769,    3,  471,  437, 1390,   17, 2010,  191,    2,\n",
       "       2520, 1391,   28, 1218,   36,  941,   88,   41,   10,  170,  135,\n",
       "          2,  160,  195,  474,   25, 2516, 1389,   17,  575, 1667,  846,\n",
       "        542,    7,    5, 1219,  191,   16,   12,  274, 1060,  217, 2011,\n",
       "       1061,    2,  577,  342,  846,  397,   66,  134,    8,   11,   97,\n",
       "       2521, 2012,  575,   57,   10, 1220,  719,    4,  415,   24, 1219,\n",
       "        191,   34,  416, 1221,    6,  544,   71,  125,   41,   97,   12,\n",
       "       3402,  472,   69,   15,  414, 2522,   17,  438,  375, 2523,  135,\n",
       "         28, 2524])"
      ]
     },
     "execution_count": 15,
     "metadata": {},
     "output_type": "execute_result"
    }
   ],
   "source": [
    "train_padded[0]"
   ]
  },
  {
   "cell_type": "code",
   "execution_count": 16,
   "id": "28f01f38-db1a-4f7e-a5a4-626b6762a203",
   "metadata": {},
   "outputs": [],
   "source": [
    "test_sequences = tokenizer.texts_to_sequences(X_test)\n",
    "test_padded = pad_sequences(test_sequences, maxlen=max_length, padding=\"post\", truncating=\"post\")"
   ]
  },
  {
   "cell_type": "code",
   "execution_count": 17,
   "id": "a9e88872-76e4-44e7-b029-ca4d27acb613",
   "metadata": {},
   "outputs": [],
   "source": [
    "## Check if mapping translates back to text\n",
    "reverse_word_index = dict([(value,key) for (key,value) in word_index.items()])\n",
    "def decode(text):\n",
    "    return \" \".join([reverse_word_index.get(i, \"?\") for i in text])"
   ]
  },
  {
   "cell_type": "code",
   "execution_count": 18,
   "id": "cde66431-b684-4f48-b27a-9798bcdf8000",
   "metadata": {},
   "outputs": [
    {
     "data": {
      "text/plain": [
       "\"the proposition of holding parents financially responsible for their children's bullying behavior raises questions about accountability parental involvement and the effectiveness of punitive measures firstly the idea of imposing fines on parents for their children's bullying actions aims to hold parents accountable for their children's behavior and encourage more active parental involvement in addressing bullying issues it places responsibility on parents to monitor and guide their children's behavior emphasizing the role of parental influence in shaping attitudes and conduct secondly proponents argue that financial consequences might motivate parents to take proactive measures to prevent bullying behavior by their children it might encourage parents to engage in discussions with their children about the impacts of bullying provide guidance on respectful behavior and seek intervention or counseling if needed however there are potential challenges and ethical concerns associated with imposing fines on parents determining parental responsibility for a child's behavior can be complex considering various external influences and factors beyond parental control some argue that it might unfairly penalize parents who are actively trying to address their child's behavior but face difficulties in doing so moreover there might be unintended consequences such as financial strain on families already facing challenges or diverting attention from the need for comprehensive strategies involving schools communities and mental health support systems to address bullying in conclusion while the notion of holding parents financially accountable for their children's bullying behavior aims to address parental responsibility it raises questions about fairness effectiveness and the broader societal approach needed to tackle bullying\""
      ]
     },
     "execution_count": 18,
     "metadata": {},
     "output_type": "execute_result"
    }
   ],
   "source": [
    "decode(train_sequences[0])"
   ]
  },
  {
   "cell_type": "code",
   "execution_count": 19,
   "id": "98912c9e-01d3-46d1-98ce-2d7cdb49a588",
   "metadata": {},
   "outputs": [],
   "source": [
    "## Make the LSTM model\n",
    "from keras.models import Sequential\n",
    "from keras.layers import Embedding, LSTM, Dense, Dropout\n",
    "from keras.initializers import Constant\n",
    "from keras.optimizers import Adam\n",
    "\n",
    "model = Sequential()\n",
    "model.add(Embedding(num_words, 32, input_length=max_length))\n",
    "model.add(LSTM(64, dropout=0.1))\n",
    "model.add(Dense(1, activation=\"sigmoid\"))\n",
    "\n",
    "optimizer = Adam(learning_rate=3e-4)\n",
    "model.compile(loss=\"binary_crossentropy\", optimizer=optimizer, metrics=[\"accuracy\"])"
   ]
  },
  {
   "cell_type": "code",
   "execution_count": 20,
   "id": "b84d4a00-de18-4b32-ac4d-98664e22e3e8",
   "metadata": {},
   "outputs": [
    {
     "name": "stdout",
     "output_type": "stream",
     "text": [
      "Model: \"sequential\"\n",
      "_________________________________________________________________\n",
      " Layer (type)                Output Shape              Param #   \n",
      "=================================================================\n",
      " embedding (Embedding)       (None, 200, 32)           337120    \n",
      "                                                                 \n",
      " lstm (LSTM)                 (None, 64)                24832     \n",
      "                                                                 \n",
      " dense (Dense)               (None, 1)                 65        \n",
      "                                                                 \n",
      "=================================================================\n",
      "Total params: 362,017\n",
      "Trainable params: 362,017\n",
      "Non-trainable params: 0\n",
      "_________________________________________________________________\n"
     ]
    }
   ],
   "source": [
    "model.summary()"
   ]
  },
  {
   "cell_type": "code",
   "execution_count": 21,
   "id": "cbc755a8-9d5e-402a-a635-29d2dc8c9d42",
   "metadata": {},
   "outputs": [
    {
     "name": "stdout",
     "output_type": "stream",
     "text": [
      "Epoch 1/20\n",
      "5/5 [==============================] - 5s 186ms/step - loss: 0.6934 - accuracy: 0.5333 - val_loss: 0.6932 - val_accuracy: 0.4222\n",
      "Epoch 2/20\n",
      "5/5 [==============================] - 0s 30ms/step - loss: 0.6921 - accuracy: 0.6000 - val_loss: 0.6925 - val_accuracy: 0.4222\n",
      "Epoch 3/20\n",
      "5/5 [==============================] - 0s 34ms/step - loss: 0.6910 - accuracy: 0.6370 - val_loss: 0.6914 - val_accuracy: 0.5556\n",
      "Epoch 4/20\n",
      "5/5 [==============================] - 0s 31ms/step - loss: 0.6894 - accuracy: 0.7481 - val_loss: 0.6899 - val_accuracy: 0.6889\n",
      "Epoch 5/20\n",
      "5/5 [==============================] - 0s 35ms/step - loss: 0.6870 - accuracy: 0.8667 - val_loss: 0.6879 - val_accuracy: 0.7556\n",
      "Epoch 6/20\n",
      "5/5 [==============================] - 0s 30ms/step - loss: 0.6835 - accuracy: 0.9111 - val_loss: 0.6845 - val_accuracy: 0.7556\n",
      "Epoch 7/20\n",
      "5/5 [==============================] - 0s 32ms/step - loss: 0.6780 - accuracy: 0.9630 - val_loss: 0.6785 - val_accuracy: 0.8222\n",
      "Epoch 8/20\n",
      "5/5 [==============================] - 0s 30ms/step - loss: 0.6681 - accuracy: 0.9778 - val_loss: 0.6663 - val_accuracy: 0.8889\n",
      "Epoch 9/20\n",
      "5/5 [==============================] - 0s 29ms/step - loss: 0.6458 - accuracy: 1.0000 - val_loss: 0.6312 - val_accuracy: 0.9333\n",
      "Epoch 10/20\n",
      "5/5 [==============================] - 0s 30ms/step - loss: 0.5740 - accuracy: 0.9926 - val_loss: 0.4349 - val_accuracy: 0.9556\n",
      "Epoch 11/20\n",
      "5/5 [==============================] - 0s 32ms/step - loss: 0.3022 - accuracy: 0.9926 - val_loss: 0.1895 - val_accuracy: 0.9778\n",
      "Epoch 12/20\n",
      "5/5 [==============================] - 0s 30ms/step - loss: 0.1508 - accuracy: 1.0000 - val_loss: 0.1579 - val_accuracy: 0.9778\n",
      "Epoch 13/20\n",
      "5/5 [==============================] - 0s 29ms/step - loss: 0.1141 - accuracy: 1.0000 - val_loss: 0.1591 - val_accuracy: 0.9778\n",
      "Epoch 14/20\n",
      "5/5 [==============================] - 0s 30ms/step - loss: 0.1725 - accuracy: 0.9704 - val_loss: 0.2034 - val_accuracy: 0.9556\n",
      "Epoch 15/20\n",
      "5/5 [==============================] - 0s 34ms/step - loss: 0.1097 - accuracy: 0.9852 - val_loss: 0.1887 - val_accuracy: 0.9556\n",
      "Epoch 16/20\n",
      "5/5 [==============================] - 0s 30ms/step - loss: 0.0756 - accuracy: 0.9926 - val_loss: 0.1778 - val_accuracy: 0.9556\n",
      "Epoch 17/20\n",
      "5/5 [==============================] - 0s 32ms/step - loss: 0.1107 - accuracy: 0.9778 - val_loss: 0.2344 - val_accuracy: 0.9333\n",
      "Epoch 18/20\n",
      "5/5 [==============================] - 0s 35ms/step - loss: 0.0641 - accuracy: 0.9926 - val_loss: 0.3721 - val_accuracy: 0.8889\n",
      "Epoch 19/20\n",
      "5/5 [==============================] - 0s 33ms/step - loss: 0.1033 - accuracy: 0.9778 - val_loss: 0.3756 - val_accuracy: 0.8889\n",
      "Epoch 20/20\n",
      "5/5 [==============================] - 0s 40ms/step - loss: 0.0583 - accuracy: 0.9926 - val_loss: 0.3803 - val_accuracy: 0.8889\n"
     ]
    },
    {
     "data": {
      "text/plain": [
       "<keras.callbacks.History at 0x28ff99df5b0>"
      ]
     },
     "execution_count": 21,
     "metadata": {},
     "output_type": "execute_result"
    }
   ],
   "source": [
    "model.fit(train_padded, y_train, epochs=20, validation_data=(test_padded, y_test))"
   ]
  },
  {
   "cell_type": "code",
   "execution_count": 22,
   "id": "69efbbb0-d258-4d0e-bbe5-0b1f74bd69a7",
   "metadata": {},
   "outputs": [
    {
     "name": "stdout",
     "output_type": "stream",
     "text": [
      "2/2 [==============================] - 0s 9ms/step\n"
     ]
    },
    {
     "data": {
      "text/plain": [
       "array([[0.9792113 ],\n",
       "       [0.97951573],\n",
       "       [0.04819248],\n",
       "       [0.04796474],\n",
       "       [0.0474784 ],\n",
       "       [0.05150995],\n",
       "       [0.97844076],\n",
       "       [0.9789478 ],\n",
       "       [0.05385152],\n",
       "       [0.04702891],\n",
       "       [0.9791378 ],\n",
       "       [0.9792306 ],\n",
       "       [0.04797965],\n",
       "       [0.04813826],\n",
       "       [0.04771962],\n",
       "       [0.9794891 ],\n",
       "       [0.05299015],\n",
       "       [0.9789449 ],\n",
       "       [0.04846856],\n",
       "       [0.05081227],\n",
       "       [0.97892225],\n",
       "       [0.0493637 ],\n",
       "       [0.04666165],\n",
       "       [0.04774886],\n",
       "       [0.9792155 ],\n",
       "       [0.97901756],\n",
       "       [0.04925724],\n",
       "       [0.04758464],\n",
       "       [0.04799878],\n",
       "       [0.04916813],\n",
       "       [0.9787057 ],\n",
       "       [0.04910406],\n",
       "       [0.97892034],\n",
       "       [0.9785715 ],\n",
       "       [0.9793464 ],\n",
       "       [0.04961303],\n",
       "       [0.04995295],\n",
       "       [0.9790551 ],\n",
       "       [0.04820962],\n",
       "       [0.04883214],\n",
       "       [0.97963184],\n",
       "       [0.04757958],\n",
       "       [0.9786502 ],\n",
       "       [0.04851962],\n",
       "       [0.9790426 ]], dtype=float32)"
      ]
     },
     "execution_count": 22,
     "metadata": {},
     "output_type": "execute_result"
    }
   ],
   "source": [
    "model.predict(test_padded)"
   ]
  },
  {
   "cell_type": "code",
   "execution_count": 23,
   "id": "a3eda814-5bfc-4a94-be25-8ede39f2a806",
   "metadata": {},
   "outputs": [
    {
     "data": {
      "text/plain": [
       "1392    1\n",
       "1400    1\n",
       "457     0\n",
       "1104    0\n",
       "776     0\n",
       "1389    1\n",
       "1310    0\n",
       "1376    1\n",
       "1396    1\n",
       "1364    0\n",
       "1454    1\n",
       "1407    1\n",
       "936     0\n",
       "452     0\n",
       "908     0\n",
       "1424    1\n",
       "1461    1\n",
       "1433    1\n",
       "1238    0\n",
       "1405    1\n",
       "1448    1\n",
       "1061    0\n",
       "1245    0\n",
       "527     0\n",
       "1442    1\n",
       "1415    1\n",
       "984     0\n",
       "1012    0\n",
       "40      0\n",
       "728     0\n",
       "1431    1\n",
       "934     0\n",
       "1463    1\n",
       "1428    1\n",
       "1386    1\n",
       "57      0\n",
       "1345    0\n",
       "1406    1\n",
       "515     0\n",
       "1356    0\n",
       "1411    1\n",
       "316     0\n",
       "1445    1\n",
       "162     0\n",
       "1385    1\n",
       "Name: generated, dtype: int64"
      ]
     },
     "execution_count": 23,
     "metadata": {},
     "output_type": "execute_result"
    }
   ],
   "source": [
    "y_test"
   ]
  },
  {
   "cell_type": "code",
   "execution_count": 24,
   "id": "e2a8a900-4efc-495b-8cfc-679b24a8a374",
   "metadata": {},
   "outputs": [
    {
     "name": "stdout",
     "output_type": "stream",
     "text": [
      "2/2 [==============================] - 0s 15ms/step - loss: 0.3803 - accuracy: 0.8889\n"
     ]
    },
    {
     "data": {
      "text/plain": [
       "[0.3802500069141388, 0.8888888955116272]"
      ]
     },
     "execution_count": 24,
     "metadata": {},
     "output_type": "execute_result"
    }
   ],
   "source": [
    "model.evaluate(test_padded, y_test)"
   ]
  },
  {
   "cell_type": "code",
   "execution_count": 25,
   "id": "8f888438-47a4-4303-a255-739b19b49c3c",
   "metadata": {},
   "outputs": [],
   "source": [
    "tokenizer_json = tokenizer.to_json()"
   ]
  },
  {
   "cell_type": "code",
   "execution_count": 26,
   "id": "a131549d-115f-4295-a68e-932475a1511e",
   "metadata": {},
   "outputs": [],
   "source": [
    "with open('tokenizer_new.json', 'w', encoding='utf-8') as f:\n",
    "    f.write(json.dumps(tokenizer_json, ensure_ascii=False))"
   ]
  },
  {
   "cell_type": "code",
   "execution_count": 27,
   "id": "56f2c6db-da81-4dfe-89fd-2fc8f70e9ee0",
   "metadata": {},
   "outputs": [],
   "source": [
    "model.save('my_model.keras')"
   ]
  },
  {
   "cell_type": "code",
   "execution_count": null,
   "id": "0d35022c-2e65-46f7-b6c4-36e0447c868f",
   "metadata": {},
   "outputs": [],
   "source": []
  }
 ],
 "metadata": {
  "kernelspec": {
   "display_name": "Python 3 (ipykernel)",
   "language": "python",
   "name": "python3"
  },
  "language_info": {
   "codemirror_mode": {
    "name": "ipython",
    "version": 3
   },
   "file_extension": ".py",
   "mimetype": "text/x-python",
   "name": "python",
   "nbconvert_exporter": "python",
   "pygments_lexer": "ipython3",
   "version": "3.10.9"
  }
 },
 "nbformat": 4,
 "nbformat_minor": 5
}
